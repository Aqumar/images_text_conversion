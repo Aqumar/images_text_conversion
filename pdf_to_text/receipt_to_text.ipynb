{
 "cells": [
  {
   "cell_type": "code",
   "execution_count": 1,
   "metadata": {},
   "outputs": [
    {
     "name": "stdout",
     "output_type": "stream",
     "text": [
      "m 5 \"WM\n",
      "° ‘wm\n",
      "\n",
      "m, _\n",
      "\n",
      "v w\n",
      "mama mi:\n",
      "w\n",
      "\n",
      "swam\n",
      "\n",
      "v 7!! next (me you tram 1‘.\n"
     ]
    }
   ],
   "source": [
    "# Import libraries \n",
    "from PIL import Image \n",
    "import pytesseract \n",
    "import sys \n",
    "from pdf2image import convert_from_path \n",
    "import os \n",
    "import pandas as pd\n",
    "import tabula\n",
    "from tabula import wrapper\n",
    "  \n",
    "# Path of the pdf \n",
    "bill_receipt = \"bill-receipt.jpg\"\n",
    "  \n",
    "          \n",
    "# Recognize the text as string in image using pytesserct \n",
    "text = str(((pytesseract.image_to_string(Image.open(bill_receipt))))) \n",
    "print(text)  \n",
    "\n"
   ]
  },
  {
   "cell_type": "code",
   "execution_count": null,
   "metadata": {},
   "outputs": [],
   "source": []
  }
 ],
 "metadata": {
  "kernelspec": {
   "display_name": "Python 3",
   "language": "python",
   "name": "python3"
  },
  "language_info": {
   "codemirror_mode": {
    "name": "ipython",
    "version": 3
   },
   "file_extension": ".py",
   "mimetype": "text/x-python",
   "name": "python",
   "nbconvert_exporter": "python",
   "pygments_lexer": "ipython3",
   "version": "3.5.2"
  }
 },
 "nbformat": 4,
 "nbformat_minor": 2
}
